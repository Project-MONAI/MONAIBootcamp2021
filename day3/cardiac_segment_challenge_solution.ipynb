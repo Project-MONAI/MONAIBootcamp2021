{
 "cells": [
  {
   "cell_type": "markdown",
   "metadata": {
    "colab_type": "text",
    "id": "fkpT6wtkd786"
   },
   "source": [
    "# Segmentation Exercise\n",
    "\n",
    "In this exercise we will segment the left ventricle of the heart in relatively small images using neural networks. \n",
    "Below is the code for setting up a segmentation network and training it. The network isn't very good, **so the exercise is to improve the quality of the segmentation by improving the network and/or the training scheme including data loading efficiency and data augmentation**. \n",
    "\n",
    "The data being used here is derived from the [Sunnybrook Cardiac Dataset](https://www.cardiacatlas.org/studies/sunnybrook-cardiac-data/) of cardiac MR images, filtered to contain only left ventricular myocardium segmentations and reduced in the XY dimensions.\n",
    "\n",
    "First we install and import MONAI plus other dependencies:"
   ]
  },
  {
   "cell_type": "code",
   "execution_count": null,
   "metadata": {},
   "outputs": [],
   "source": [
    "!python -c \"import monai\" || pip install -qU \"monai[ignite, nibabel, torchvision, tqdm]==0.6.0\"\n",
    "!python -c \"import matplotlib\" || pip install -q matplotlib\n",
    "%matplotlib inline"
   ]
  },
  {
   "cell_type": "code",
   "execution_count": 1,
   "metadata": {
    "colab": {},
    "colab_type": "code",
    "id": "TLl72MMid0pJ"
   },
   "outputs": [],
   "source": [
    "%matplotlib inline\n",
    "\n",
    "from urllib.request import urlopen\n",
    "from io import BytesIO\n",
    "\n",
    "import torch\n",
    "import torch.nn as nn\n",
    "import torch.nn.functional as F\n",
    "\n",
    "import numpy as np\n",
    "\n",
    "import matplotlib.pyplot as plt\n",
    "\n",
    "import monai\n",
    "from monai.transforms import Compose, AddChannel, ScaleIntensity, ToTensor\n",
    "from monai.losses import DiceLoss\n",
    "from monai.metrics import DiceMetric\n",
    "from monai.data import ArrayDataset\n",
    "from torch.utils.data import DataLoader\n",
    "from monai.utils import first, progress_bar\n",
    "from monai.networks import one_hot\n",
    "\n",
    "# new imports\n",
    "from ignite.engine import Engine, Events\n",
    "from monai.data import NPZDictItemDataset\n",
    "from monai.engines import SupervisedTrainer, SupervisedEvaluator\n",
    "from monai.handlers import StatsHandler, MeanDice, ValidationHandler, MetricLogger, from_engine\n",
    "from monai.utils.enums import CommonKeys\n",
    "from monai.networks.nets import UNet\n",
    "from monai.transforms import (\n",
    "    Activationsd, \n",
    "    AsDiscreted,\n",
    "    AddChanneld,\n",
    "    ScaleIntensityd,\n",
    "    CastToTyped,\n",
    "    EnsureTyped,\n",
    "    RandFlipd,\n",
    "    RandRotate90d,\n",
    "    RandZoomd,\n",
    "    Rand2DElasticd,\n",
    "    RandAffined,\n",
    ")\n",
    "\n",
    "device = torch.device(\"cuda:0\")\n",
    "DATA_NPZ = \"https://github.com/ericspod/VPHSummerSchool2019/raw/master/scd_lvsegs.npz\"\n",
    "\n",
    "both_keys = (CommonKeys.IMAGE, CommonKeys.LABEL)\n",
    "image_only = CommonKeys.IMAGE"
   ]
  },
  {
   "cell_type": "markdown",
   "metadata": {
    "colab_type": "text",
    "id": "KyU8DpLmjIBL"
   },
   "source": [
    "We now load the data from the remote source and visualize a sample:"
   ]
  },
  {
   "cell_type": "code",
   "execution_count": 2,
   "metadata": {
    "colab": {
     "base_uri": "https://localhost:8080/",
     "height": 305
    },
    "colab_type": "code",
    "id": "HqCaraEzieh3",
    "outputId": "434141a3-4925-45c8-bf46-0a844b455070"
   },
   "outputs": [],
   "source": [
    "# here we need to only load the npz file itself\n",
    "remote_file = urlopen(DATA_NPZ)\n",
    "npz = BytesIO(remote_file.read())\n",
    "\n",
    "# data = np.load(npz)  # load all the data from the archive\n",
    "\n",
    "# images = data[\"images\"]  # images in BHW array order\n",
    "# segs = data[\"segs\"]  # segmentations in BHW array order\n",
    "# case_indices = data[\"caseIndices\"]  # the indices in `images` for each case\n",
    "\n",
    "# images = images.astype(np.float32) / images.max()  # normalize images\n",
    "\n",
    "# print(images.shape, segs.shape)\n",
    "# plt.imshow(images[13] + segs[13] * 0.25, cmap=\"gray\")  # show image 13 with segmentation"
   ]
  },
  {
   "cell_type": "markdown",
   "metadata": {
    "colab_type": "text",
    "id": "fnSoc-rujRjq"
   },
   "source": [
    "We will split our data into a training and validation set by keeping the last 6 cases as the latter:"
   ]
  },
  {
   "cell_type": "code",
   "execution_count": 10,
   "metadata": {
    "colab": {},
    "colab_type": "code",
    "id": "vvIeP4DGjbkT"
   },
   "outputs": [],
   "source": [
    "# valid_index = case_indices[-6, 0]  # keep the last 6 cases for testing\n",
    "\n",
    "# # divide the images, segmentations, and categories into train/test sets\n",
    "# train_images, train_segs = images[:valid_index], segs[:valid_index]\n",
    "# valid_images, valid_segs = images[valid_index:], segs[valid_index:]"
   ]
  },
  {
   "cell_type": "markdown",
   "metadata": {
    "colab_type": "text",
    "id": "3qyUcjrljrIs"
   },
   "source": [
    "We can now create a MONAI data loading object to compose batches during training, and another for validation:"
   ]
  },
  {
   "cell_type": "code",
   "execution_count": 3,
   "metadata": {
    "colab": {
     "base_uri": "https://localhost:8080/",
     "height": 35
    },
    "colab_type": "code",
    "id": "xU6A9TNLfEUu",
    "outputId": "1cc3348e-57b8-4eb4-a964-0b9239afa988"
   },
   "outputs": [],
   "source": [
    "# image_trans = Compose(\n",
    "#     [\n",
    "#         ScaleIntensity(),  # rescale image data to range [0,1]\n",
    "#         AddChannel(),  # add 1-size channel dimension\n",
    "#         ToTensor(),  # convert to tensor\n",
    "#     ]\n",
    "# )\n",
    "\n",
    "# seg_trans = Compose([AddChannel(), ToTensor()])\n",
    "\n",
    "# ds = ArrayDataset(train_images, image_trans, train_segs, seg_trans)\n",
    "# loader = DataLoader(\n",
    "#     dataset=ds,\n",
    "#     batch_size=batch_size,\n",
    "#     num_workers=num_workers,\n",
    "#     pin_memory=torch.cuda.is_available(),\n",
    "# )\n",
    "\n",
    "# val_ds = ArrayDataset(test_images, image_trans, test_segs, seg_trans)\n",
    "# val_loader = DataLoader(\n",
    "#     dataset=val_ds,\n",
    "#     batch_size=batch_size,\n",
    "#     num_workers=num_workers,\n",
    "#     pin_memory=torch.cuda.is_available(),\n",
    "# )\n",
    "\n",
    "# im, seg = first(loader)\n",
    "# print(im.shape, im.min(), im.max(), seg.shape)\n",
    "\n",
    "batch_size = 50\n",
    "num_workers = 2\n",
    "aug_prob = 0.5\n",
    "\n",
    "# use these when interpolating binary segmentations to ensure values are 0 or 1 only\n",
    "zoom_mode = monai.utils.enums.InterpolateMode.NEAREST\n",
    "elast_mode = monai.utils.enums.GridSampleMode.BILINEAR, monai.utils.enums.GridSampleMode.NEAREST\n",
    "\n",
    "train_trans = Compose(\n",
    "    [\n",
    "        ScaleIntensityd(image_only),\n",
    "        AddChanneld(both_keys),\n",
    "        RandRotate90d(keys=both_keys, prob=aug_prob),\n",
    "        RandFlipd(keys=both_keys, prob=aug_prob),\n",
    "        RandZoomd(keys=both_keys, prob=aug_prob, mode=zoom_mode),\n",
    "        Rand2DElasticd(keys=both_keys, prob=aug_prob, spacing=10, magnitude_range=(-2, 2), mode=elast_mode),\n",
    "#         RandAffined(keys=both_keys, prob=aug_prob, rotate_range=1, translate_range=16, mode=elast_mode),\n",
    "        CastToTyped(both_keys, (np.float32, np.int32)),\n",
    "        EnsureTyped(both_keys),\n",
    "    ]\n",
    ")\n",
    "\n",
    "val_trans = Compose(\n",
    "    [\n",
    "        ScaleIntensityd(image_only),\n",
    "        AddChanneld(both_keys),\n",
    "        CastToTyped(both_keys, (np.float32, np.int32)),\n",
    "        EnsureTyped(both_keys),\n",
    "    ]\n",
    ")\n",
    "\n",
    "# create training and validation datasets from the whole set of images, these will be resized below based on case indices\n",
    "train_dat = NPZDictItemDataset(npz, {\"images\": CommonKeys.IMAGE, \"segs\": CommonKeys.LABEL}, train_trans, (\"caseIndices\",))\n",
    "val_dat = NPZDictItemDataset(npz, {\"images\": CommonKeys.IMAGE, \"segs\": CommonKeys.LABEL}, val_trans)\n",
    "\n",
    "# extract the case indices array\n",
    "case_indices = train_dat.other_keys[\"caseIndices\"]\n",
    "val_index = case_indices[-6, 0]  # keep the last 6 cases for testing\n",
    "\n",
    "# Partition the loaded datasets, we want to keep only part of the datasets which have different transform pipelines.\n",
    "# This involves multiple copies of the data which is fine for small datasets like this, but how would this be avoided?\n",
    "train_dat = train_dat[:val_index]\n",
    "val_dat = val_dat[val_index:]\n",
    "\n",
    "loader = DataLoader(\n",
    "    dataset=train_dat,\n",
    "    batch_size=batch_size,\n",
    "    num_workers=num_workers,\n",
    "    pin_memory=torch.cuda.is_available(),\n",
    ")\n",
    "\n",
    "val_loader = DataLoader(\n",
    "    dataset=val_dat,\n",
    "    batch_size=batch_size,\n",
    "    num_workers=num_workers,\n",
    "    pin_memory=torch.cuda.is_available(),\n",
    ")"
   ]
  },
  {
   "cell_type": "markdown",
   "metadata": {
    "colab_type": "text",
    "id": "c-hNZy4qkHji"
   },
   "source": [
    "We now define out simple network. This doesn't do a good job so consider how to improve it by adding layers or other elements:"
   ]
  },
  {
   "cell_type": "code",
   "execution_count": 8,
   "metadata": {
    "colab": {},
    "colab_type": "code",
    "id": "lM5NapkCj_Mx"
   },
   "outputs": [],
   "source": [
    "# class SegNet(nn.Module):\n",
    "#     def __init__(self):\n",
    "#         super().__init__()\n",
    "\n",
    "#         self.model = nn.Sequential(\n",
    "#             # layer 1: convolution, normalization, downsampling\n",
    "#             nn.Conv2d(1, 2, 3, 1, 1),\n",
    "#             nn.BatchNorm2d(2),\n",
    "#             nn.ReLU(),\n",
    "#             nn.MaxPool2d(3, 2, 1),\n",
    "#             # layer 2\n",
    "#             nn.Conv2d(2, 4, 3, 1, 1),\n",
    "#             # layer 3\n",
    "#             nn.ConvTranspose2d(4, 2, 3, 2, 1, 1),\n",
    "#             nn.BatchNorm2d(2),\n",
    "#             nn.ReLU(),\n",
    "#             # layer 4: output\n",
    "#             nn.Conv2d(2, 1, 3, 1, 1),\n",
    "#         )\n",
    "\n",
    "#     def forward(self, x):\n",
    "#         return self.model(x)"
   ]
  },
  {
   "cell_type": "markdown",
   "metadata": {
    "colab_type": "text",
    "id": "Di-LUDgO3k5r"
   },
   "source": [
    "Our training scheme is very simple. For each epoch we train on each batch of images from the training set, thus training with each image once, and then evaluate with the validation set."
   ]
  },
  {
   "cell_type": "code",
   "execution_count": 4,
   "metadata": {},
   "outputs": [
    {
     "name": "stdout",
     "output_type": "stream",
     "text": [
      "200/200 Validation Metric:   0.749 [==============================]\n"
     ]
    }
   ],
   "source": [
    "num_epochs = 200\n",
    "lr = 5e-3\n",
    "\n",
    "# net = SegNet()\n",
    "# net = net.to(device)\n",
    "\n",
    "# opt = torch.optim.Adam(net.parameters(), lr)\n",
    "# loss = DiceLoss(sigmoid=True)\n",
    "# metric = DiceMetric(include_background=True, reduction=\"mean\")\n",
    "\n",
    "# step_losses = []\n",
    "# epoch_metrics = []\n",
    "# total_step = 0\n",
    "\n",
    "# for epoch in range(num_epochs):\n",
    "#     net.train()\n",
    "\n",
    "#     # train network with training images\n",
    "#     for bimages, bsegs in loader:\n",
    "#         bimages = bimages.to(device)\n",
    "#         bsegs = bsegs.to(device)\n",
    "\n",
    "#         opt.zero_grad()\n",
    "\n",
    "#         prediction = net(bimages)\n",
    "#         loss_val = loss(torch.sigmoid(prediction), bsegs)\n",
    "#         loss_val.backward()\n",
    "#         opt.step()\n",
    "\n",
    "#         step_losses.append((total_step, loss_val.item()))\n",
    "#         total_step += 1\n",
    "\n",
    "#     net.eval()\n",
    "#     metric_vals = []\n",
    "\n",
    "#     # test our network using the validation dataset\n",
    "#     with torch.no_grad():\n",
    "#         for bimages, bsegs in val_loader:\n",
    "#             bimages = bimages.to(device)\n",
    "#             bsegs = bsegs.to(device)\n",
    "\n",
    "#             prediction = net(bimages)\n",
    "\n",
    "#             mvals = metric(y_pred=torch.sigmoid(prediction) > 0.5, y=bsegs)\n",
    "#             metric_vals += mvals.cpu().data.numpy().flatten().tolist()\n",
    "\n",
    "#     epoch_metrics.append((total_step, np.average(metric_vals)))\n",
    "\n",
    "#     progress_bar(epoch + 1, num_epochs, f\"Validation Metric: {epoch_metrics[-1][1]:7.3}\")\n",
    "\n",
    "net = UNet(dimensions=2, in_channels=1, out_channels=1, channels=[16, 32, 64], strides=[2, 2])\n",
    "net = net.to(device)\n",
    "\n",
    "opt = torch.optim.Adam(net.parameters(), lr)\n",
    "loss = DiceLoss(sigmoid=True)\n",
    "metric = DiceMetric(include_background=True, reduction=\"mean\")\n",
    "\n",
    "step_losses = []\n",
    "epoch_metrics = []\n",
    "total_step = 0\n",
    "\n",
    "post_transform = Compose(\n",
    "    [Activationsd(keys=\"pred\", sigmoid=True), AsDiscreted(keys=[\"pred\", \"label\"], threshold_values=True,),]\n",
    ")\n",
    "\n",
    "\n",
    "evaluator = SupervisedEvaluator(\n",
    "    device=device,\n",
    "    val_data_loader=val_loader,\n",
    "    network=net,\n",
    "    postprocessing=post_transform,\n",
    "    key_val_metric={\"val_mean_dice\": MeanDice(include_background=True, output_transform=from_engine([\"pred\", \"label\"]))},\n",
    "    val_handlers=[StatsHandler(output_transform=lambda x: None)],\n",
    ")\n",
    "\n",
    "logger = MetricLogger(evaluator=evaluator)\n",
    "\n",
    "trainer = SupervisedTrainer(\n",
    "    device=device,\n",
    "    max_epochs=num_epochs,\n",
    "    train_data_loader=loader,\n",
    "    network=net,\n",
    "    optimizer=opt,\n",
    "    loss_function=loss,\n",
    "    train_handlers=[logger, ValidationHandler(1, evaluator)],\n",
    ")\n",
    "\n",
    "\n",
    "@trainer.on(Events.EPOCH_COMPLETED)\n",
    "def _progress(engine: Engine):\n",
    "    m = evaluator.state.metrics[\"val_mean_dice\"]\n",
    "    progress_bar(engine.state.epoch, num_epochs, f\"Validation Metric: {m:7.3}\")\n",
    "\n",
    "\n",
    "trainer.run()"
   ]
  },
  {
   "cell_type": "markdown",
   "metadata": {
    "colab_type": "text",
    "id": "qscf-SW34DDJ"
   },
   "source": [
    "We now graph the results from our training and find the results are not very good:"
   ]
  },
  {
   "cell_type": "code",
   "execution_count": 5,
   "metadata": {
    "colab": {
     "base_uri": "https://localhost:8080/",
     "height": 390
    },
    "colab_type": "code",
    "id": "fAzQ_36HwRvs",
    "outputId": "e41c312e-e6fe-4b26-e109-4da046e45e0a"
   },
   "outputs": [
    {
     "data": {
      "image/png": "[encoded data removed]",
      "text/plain": [
       "<Figure size 1440x432 with 2 Axes>"
      ]
     },
     "metadata": {
      "needs_background": "light"
     },
     "output_type": "display_data"
    }
   ],
   "source": [
    "fig, ax = plt.subplots(1, 2, figsize=(20, 6))\n",
    "\n",
    "step_losses=logger.loss\n",
    "epoch_metrics=logger.metrics[\"val_mean_dice\"]\n",
    "\n",
    "ax[0].semilogy(*zip(*step_losses))\n",
    "ax[0].set_title(\"Step Loss\")\n",
    "\n",
    "ax[1].plot(*zip(*epoch_metrics))\n",
    "ax[1].set_title(\"Per-Step Validation Results\")\n",
    "plt.show()"
   ]
  },
  {
   "cell_type": "markdown",
   "metadata": {
    "colab_type": "text",
    "id": "uiGXhr0B4J6B"
   },
   "source": [
    "## 👉 Challenge: Improve results and implementation 👈\n",
    "\n",
    "### 1. Improve Data Pipeline\n",
    "\n",
    "The pipeline currently has a very basic set of transforms. We'd want to add new transforms which will add regularization to our training process, specifically modifying the image and segmentations to make the learning problem a little harder. \n",
    "\n",
    "The dataset being used is `ArrayDataset` but we have in MONAI `NPZDictItemDataset` for loading data from Numpy's NPZ file format. Change the code to use this class instead. You'll need a different way of getting `caseIndices` and splitting the dataset using it.\n",
    "\n",
    "### 2. Improve/Replace Network\n",
    "\n",
    "As you can see we're not getting good results from our network. The training loss values are jumping around and not decreasing much anymore. The validation score has topped out at 0.25, which is really poor. \n",
    "\n",
    "It's now up to you to improve the results of our segmentation task. The things to consider changing include the network itself, how data is loaded, how batches might be composed, and what transforms we want to use from MONAI. \n",
    "\n",
    "### 3. Replace The Training Loop\n",
    "\n",
    "This notebook uses a simple training loop with validation done explicitly. Replace this with a use of the `SupervisedTrainer` class and `SupervisedEvaluator` to do the evaluation throughout the training process. The graph plotting is done simply by recording values at each iteration through the loop, you'll want to use some other mechanism to do the same thing such as using a `MetricLogger` handler object."
   ]
  }
 ],
 "metadata": {
  "accelerator": "GPU",
  "colab": {
   "name": "MONAI_Segment_Exercise.ipynb",
   "provenance": []
  },
  "kernelspec": {
   "display_name": "Python [conda env:monai]",
   "language": "python",
   "name": "conda-env-monai-py"
  },
  "language_info": {
   "codemirror_mode": {
    "name": "ipython",
    "version": 3
   },
   "file_extension": ".py",
   "mimetype": "text/x-python",
   "name": "python",
   "nbconvert_exporter": "python",
   "pygments_lexer": "ipython3",
   "version": "3.8.5"
  }
 },
 "nbformat": 4,
 "nbformat_minor": 4
}
