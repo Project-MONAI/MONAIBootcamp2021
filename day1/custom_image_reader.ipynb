{
 "cells": [
  {
   "cell_type": "markdown",
   "id": "dcbe5cd7",
   "metadata": {},
   "source": [
    "# Custom Image Reader\n",
    "\n",
    "This demonstrates defining your own custom image reader class to work with the LoadImage transform. This will let you load your own image types that aren't directly supported by MONAI. Note this is for version 0.6 and in subsequent versions the underlying implementation of LoadImage will change slightly."
   ]
  },
  {
   "cell_type": "code",
   "execution_count": 1,
   "id": "b18b5103",
   "metadata": {},
   "outputs": [],
   "source": [
    "from typing import Sequence, Union\n",
    "\n",
    "import numpy as np\n",
    "import matplotlib.pyplot as plt\n",
    "\n",
    "from monai.data.image_reader import ImageReader\n",
    "from monai.transforms import Compose, LoadImage, AddChannel\n",
    "from monai.data import create_test_image_2d, Dataset, DataLoader\n",
    "from monai.data.utils import is_supported_format, ensure_tuple"
   ]
  },
  {
   "cell_type": "markdown",
   "id": "e9fc5fc2",
   "metadata": {},
   "source": [
    "Here we will save a few tif files to a temp directory using PIL:"
   ]
  },
  {
   "cell_type": "code",
   "execution_count": 2,
   "id": "743a859f",
   "metadata": {},
   "outputs": [],
   "source": [
    "import tempfile\n",
    "from PIL import Image\n",
    "\n",
    "root_dir = tempfile.mkdtemp()\n",
    "filenames = []\n",
    "\n",
    "for i in range(5):\n",
    "    im, _ = create_test_image_2d(256, 256, num_objs=25, rad_max=50)\n",
    "\n",
    "    im_filename = f\"{root_dir}/im{i}.tif\"\n",
    "    filenames.append(im_filename)\n",
    "\n",
    "    pim = Image.fromarray(im)\n",
    "    pim.save(im_filename)"
   ]
  },
  {
   "cell_type": "markdown",
   "id": "5ceb9106",
   "metadata": {},
   "source": [
    "The `ImageReader` class defines an interface for loading image data from filenames. We provide implementations of its methods below to load tif files one at a time or multiples at once. The `PILReader` already exists and this would be a good place to look to see a more involved implementation of this type of class."
   ]
  },
  {
   "cell_type": "code",
   "execution_count": 3,
   "id": "7dd2cd88",
   "metadata": {},
   "outputs": [],
   "source": [
    "class TifReader(ImageReader):\n",
    "    \"\"\"\n",
    "    Load tif file or files from provided path. This is a simplified example that lacks many features present in other image readers, \n",
    "    refer to MONAI code to see how to implement a more complete image reader. \n",
    "    \"\"\"\n",
    "\n",
    "    def verify_suffix(self, filename: Union[Sequence[str], str]) -> bool:\n",
    "        \"\"\"\n",
    "        Verify whether the specified file or files format is supported by the reader.\n",
    "        \"\"\"\n",
    "        return is_supported_format(filename, [\"tiff\", \"tif\"])\n",
    "\n",
    "    def read(self, data: Union[Sequence[str], str, np.ndarray], **kwargs):\n",
    "        \"\"\"\n",
    "        Read image data from specified file or files.\n",
    "        Note that the returned object is PIL image or list of PIL image.\n",
    "        \"\"\"\n",
    "\n",
    "        filenames: Sequence[str] = ensure_tuple(data)\n",
    "        images = [Image.open(name) for name in filenames]\n",
    "\n",
    "        return images if len(filenames) > 1 else images[0]\n",
    "\n",
    "    def get_data(self, img):\n",
    "        \"\"\"\n",
    "        Extract data array and meta data from loaded data and return them. This simplifies the process for \n",
    "        demonstration reasons, refer to PILReader for a more complete implementation.\n",
    "        \n",
    "        Args:\n",
    "            img: a PIL Image object loaded from a file or a list of PIL Image objects.\n",
    "        \"\"\"\n",
    "        img_array: List[np.ndarray] = []\n",
    "\n",
    "        for i in ensure_tuple(img):\n",
    "            data = np.asarray(i)\n",
    "            img_array.append(data)\n",
    "\n",
    "        metadata = {\n",
    "            \"format\": i.format,\n",
    "            \"mode\": i.mode,\n",
    "            \"width\": i.width,\n",
    "            \"height\": i.height,\n",
    "            \"spatial_shape\": np.asarray((i.width, i.height)),\n",
    "        }\n",
    "\n",
    "        final_image = img_array[0] if len(img_array) == 1 else np.stack([i[None] for i in img_array], 0)\n",
    "\n",
    "        return final_image, metadata"
   ]
  },
  {
   "cell_type": "markdown",
   "id": "877d6c66",
   "metadata": {},
   "source": [
    "We can then define a transform pipeline with `LoadImage` being provided an instance of `TifReader` as its `reader` argument. This object will then be used to load file data:"
   ]
  },
  {
   "cell_type": "code",
   "execution_count": 4,
   "id": "ac732206",
   "metadata": {},
   "outputs": [
    {
     "name": "stdout",
     "output_type": "stream",
     "text": [
      "torch.Size([1, 1, 256, 256])\n",
      "torch.Size([1, 1, 256, 256])\n",
      "torch.Size([1, 1, 256, 256])\n",
      "torch.Size([1, 1, 256, 256])\n",
      "torch.Size([1, 1, 256, 256])\n"
     ]
    },
    {
     "data": {
      "text/plain": [
       "<matplotlib.image.AxesImage at 0x7fc4f7c49e20>"
      ]
     },
     "execution_count": 4,
     "metadata": {},
     "output_type": "execute_result"
    },
    {
     "data": {
      "image/png": "[encoded data removed]",
      "text/plain": [
       "<Figure size 432x288 with 1 Axes>"
      ]
     },
     "metadata": {
      "needs_background": "light"
     },
     "output_type": "display_data"
    }
   ],
   "source": [
    "trans = Compose([LoadImage(reader=TifReader(), image_only=True), AddChannel()])\n",
    "\n",
    "ds = Dataset(filenames, trans)\n",
    "dl = DataLoader(ds, batch_size=1, num_workers=1)\n",
    "\n",
    "for batch in dl:\n",
    "    print(batch.shape)\n",
    "\n",
    "plt.imshow(batch[0, 0])"
   ]
  }
 ],
 "metadata": {
  "kernelspec": {
   "display_name": "Python [conda env:bootcamp]",
   "language": "python",
   "name": "conda-env-bootcamp-py"
  },
  "language_info": {
   "codemirror_mode": {
    "name": "ipython",
    "version": 3
   },
   "file_extension": ".py",
   "mimetype": "text/x-python",
   "name": "python",
   "nbconvert_exporter": "python",
   "pygments_lexer": "ipython3",
   "version": "3.8.11"
  }
 },
 "nbformat": 4,
 "nbformat_minor": 5
}
